{
  "cells": [
    {
      "cell_type": "markdown",
      "metadata": {},
      "source": [
        "# CRQUBO: Combinatorial Reasoning with Large Language Models\n",
        "\n",
        "This notebook demonstrates the framework with various reasoning tasks across different domains.\n",
        "\n",
        "## Table of Contents\n",
        "1. [Setup and Installation](#setup)\n",
        "2. [Basic Usage](#basic)\n",
        "3. [Causal Reasoning](#causal)\n",
        "4. [Logical Reasoning](#logical)\n",
        "5. [Arithmetic Reasoning](#arithmetic)\n",
        "6. [Multi-Domain Reasoning](#multi)\n",
        "7. [Advanced Configuration](#advanced)\n",
        "8. [Performance Analysis](#performance)\n",
        "9. [Custom Modules](#custom)\n"
      ]
    },
    {
      "cell_type": "markdown",
      "metadata": {},
      "source": [
        "## Setup and Installation {#setup}\n",
        "\n",
        "First, let's install the required dependencies and set up the environment.\n"
      ]
    },
    {
      "cell_type": "code",
      "execution_count": null,
      "metadata": {},
      "outputs": [],
      "source": [
        "# Install required packages\n",
        "!pip install -r requirements.txt\n",
        "\n",
        "# Set up environment variables (replace with your actual API keys)\n",
        "import os\n",
        "os.environ['OPENAI_API_KEY'] = 'your-openai-api-key-here'  # Replace with your key\n",
        "# os.environ['DWAVE_API_TOKEN'] = 'your-dwave-api-token-here'  # Optional for quantum optimization\n"
      ]
    },
    {
      "cell_type": "code",
      "execution_count": null,
      "metadata": {},
      "outputs": [],
      "source": [
        "# Import required libraries\n",
        "import sys\n",
        "import json\n",
        "import time\n",
        "import matplotlib.pyplot as plt\n",
        "import seaborn as sns\n",
        "import pandas as pd\n",
        "import numpy as np\n",
        "from typing import Dict, List, Any\n",
        "\n",
        "# Import CRQUBO components\n",
        "from crqubo import CRLLMPipeline\n",
        "from crqubo.modules import (\n",
        "    TaskAgnosticInterface,\n",
        "    RetrievalModule,\n",
        "    ReasonSampler,\n",
        "    SemanticFilter,\n",
        "    CombinatorialOptimizer,\n",
        "    ReasonOrderer,\n",
        "    FinalInference,\n",
        "    ReasonVerifier\n",
        ")\n",
        "\n",
        "# Set up plotting\n",
        "plt.style.use('seaborn-v0_8')\n",
        "sns.set_palette(\"husl\")\n",
        "\n",
        "print(\"✅ All imports successful!\")\n"
      ]
    },
    {
      "cell_type": "markdown",
      "metadata": {},
      "source": [
        "## Basic Usage {#basic}\n",
        "\n",
        "Let's start with a simple example to understand how CRQUBO works.\n"
      ]
    },
    {
      "cell_type": "code",
      "execution_count": null,
      "metadata": {},
      "outputs": [],
      "source": [
        "# Create a basic CRQUBO pipeline\n",
        "pipeline = CRLLMPipeline()\n",
        "\n",
        "# Process a simple query\n",
        "query = \"What are the main causes of climate change?\"\n",
        "print(f\"Query: {query}\")\n",
        "print(\"Processing...\")\n",
        "\n",
        "result = pipeline.process_query(\n",
        "    query=query,\n",
        "    domain=\"causal\",\n",
        "    use_retrieval=False,  # Start without retrieval for simplicity\n",
        "    use_verification=False\n",
        ")\n",
        "\n",
        "print(f\"\\nAnswer: {result.final_answer}\")\n",
        "print(f\"Confidence: {result.confidence:.2f}\")\n",
        "print(f\"\\nReasoning Chain ({len(result.reasoning_chain)} steps):\")\n",
        "for i, step in enumerate(result.reasoning_chain, 1):\n",
        "    print(f\"{i}. {step}\")\n"
      ]
    }
  ],
  "metadata": {
    "language_info": {
      "name": "python"
    }
  },
  "nbformat": 4,
  "nbformat_minor": 2
}
